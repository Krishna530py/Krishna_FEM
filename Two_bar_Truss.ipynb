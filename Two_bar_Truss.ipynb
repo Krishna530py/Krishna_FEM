{
 "cells": [
  {
   "cell_type": "code",
   "execution_count": null,
   "id": "45a3bee2",
   "metadata": {},
   "outputs": [],
   "source": [
    "#Two bar truss having one external load at node2\n",
    "# Two end are fixed supports"
   ]
  },
  {
   "cell_type": "code",
   "execution_count": 13,
   "id": "f5454093",
   "metadata": {},
   "outputs": [],
   "source": [
    "import numpy as np\n",
    "import calfem.core as cfc"
   ]
  },
  {
   "cell_type": "code",
   "execution_count": 10,
   "id": "60c79477",
   "metadata": {},
   "outputs": [
    {
     "data": {
      "text/plain": [
       "array([[1, 2, 3, 4],\n",
       "       [3, 4, 5, 6]])"
      ]
     },
     "execution_count": 10,
     "metadata": {},
     "output_type": "execute_result"
    }
   ],
   "source": [
    "#Topology matrix Edof\n",
    "Edof = np.array([\n",
    "    [1,2,3,4],\n",
    "    [3,4,5,6]\n",
    "])\n",
    "Edof"
   ]
  },
  {
   "cell_type": "code",
   "execution_count": 16,
   "id": "5680f427",
   "metadata": {},
   "outputs": [
    {
     "data": {
      "text/plain": [
       "matrix([[0.],\n",
       "        [0.],\n",
       "        [0.],\n",
       "        [0.],\n",
       "        [0.],\n",
       "        [0.]])"
      ]
     },
     "execution_count": 16,
     "metadata": {},
     "output_type": "execute_result"
    }
   ],
   "source": [
    "#Stiffness matrix K and load vector f\n",
    "K = np.matrix(np.zeros((6,6)))\n",
    "f = np.matrix(np.zeros((6,1)))\n",
    "K\n",
    "f\n"
   ]
  },
  {
   "cell_type": "code",
   "execution_count": 4,
   "id": "728cc229",
   "metadata": {},
   "outputs": [],
   "source": [
    "#Element properties\n",
    "E = 2e5\n",
    "A1 = 200\n",
    "A2 = 200\n",
    "L1 = 500\n",
    "L2 = 500\n",
    "ep1 = [E,A1]\n",
    "ep2 = [E,A2]\n"
   ]
  },
  {
   "cell_type": "code",
   "execution_count": 5,
   "id": "cefa75fc",
   "metadata": {},
   "outputs": [],
   "source": [
    "#Element coordinates\n",
    "ex1 = np.array([500, 900])\n",
    "ex2 = np.array([0.0, 500])\n",
    "\n",
    "ey1 = np.array([0.0, -300])\n",
    "ey2 = np.array([0.0, 0.0])\n"
   ]
  },
  {
   "cell_type": "code",
   "execution_count": 6,
   "id": "c5b5e67c",
   "metadata": {},
   "outputs": [
    {
     "name": "stdout",
     "output_type": "stream",
     "text": [
      "[[ 51200. -38400. -51200.  38400.]\n",
      " [-38400.  28800.  38400. -28800.]\n",
      " [-51200.  38400.  51200. -38400.]\n",
      " [ 38400. -28800. -38400.  28800.]]\n",
      "[[ 80000.      0. -80000.      0.]\n",
      " [     0.      0.      0.      0.]\n",
      " [-80000.      0.  80000.      0.]\n",
      " [     0.      0.      0.      0.]]\n"
     ]
    }
   ],
   "source": [
    "#Element stiffness matrices\n",
    "Ke1 = cfc.bar2e(ex1,ey1,ep1)\n",
    "Ke2 = cfc.bar2e(ex2,ey2,ep2)\n",
    "print(Ke1)\n",
    "print(Ke2)\n"
   ]
  },
  {
   "cell_type": "code",
   "execution_count": 7,
   "id": "0b157272",
   "metadata": {},
   "outputs": [
    {
     "name": "stdout",
     "output_type": "stream",
     "text": [
      "Stiffness matrix K:k1+k2\n",
      "[[ 51200. -38400. -51200.  38400.      0.      0.]\n",
      " [-38400.  28800.  38400. -28800.      0.      0.]\n",
      " [-51200.  38400. 131200. -38400. -80000.      0.]\n",
      " [ 38400. -28800. -38400.  28800.      0.      0.]\n",
      " [     0.      0. -80000.      0.  80000.      0.]\n",
      " [     0.      0.      0.      0.      0.      0.]]\n"
     ]
    }
   ],
   "source": [
    "#Assemble Ke into K\n",
    "cfc.assem(Edof[0,:],K,Ke1)\n",
    "cfc.assem(Edof[1,:],K,Ke2)\n",
    "\n",
    "print(\"Stiffness matrix K:k1+k2\")\n",
    "print(K)\n"
   ]
  },
  {
   "cell_type": "code",
   "execution_count": 8,
   "id": "d1a95517",
   "metadata": {},
   "outputs": [
    {
     "name": "stdout",
     "output_type": "stream",
     "text": [
      "\n",
      "Displacements U:\n",
      "[[ 0.        ]\n",
      " [ 0.        ]\n",
      " [-0.2       ]\n",
      " [-0.68333333]\n",
      " [ 0.        ]\n",
      " [ 0.        ]]\n",
      "\n",
      "Reaction forces r:\n",
      "[[-16000.]\n",
      " [ 12000.]\n",
      " [     0.]\n",
      " [     0.]\n",
      " [ 16000.]\n",
      " [     0.]]\n"
     ]
    }
   ],
   "source": [
    "#Solve the system of equations\n",
    "bc = np.array([1,2,5,6])\n",
    "f[3] = -12000\n",
    "U, r = cfc.solveq(K,f,bc)\n",
    "\n",
    "print(\"\\nDisplacements U:\")\n",
    "print(U)\n",
    "\n",
    "print(\"\\nReaction forces r:\")\n",
    "print(r)\n"
   ]
  },
  {
   "cell_type": "code",
   "execution_count": null,
   "id": "e7f2c733",
   "metadata": {},
   "outputs": [],
   "source": []
  }
 ],
 "metadata": {
  "kernelspec": {
   "display_name": "Python 3 (ipykernel)",
   "language": "python",
   "name": "python3"
  },
  "language_info": {
   "codemirror_mode": {
    "name": "ipython",
    "version": 3
   },
   "file_extension": ".py",
   "mimetype": "text/x-python",
   "name": "python",
   "nbconvert_exporter": "python",
   "pygments_lexer": "ipython3",
   "version": "3.9.13"
  }
 },
 "nbformat": 4,
 "nbformat_minor": 5
}
